{
 "cells": [
  {
   "cell_type": "markdown",
   "id": "0a8a48ca-7e74-4c12-865f-188512b2f86e",
   "metadata": {
    "tags": []
   },
   "source": [
    "# 3. Boreal Forest Height: Prediction\n",
    "This notebook is to apply pre-trained Random Forest model to estimate potential forest height given environmental covariates\n",
    "\n",
    "Based on Notebook by Zach Williams\n",
    "Revision: JL 04/17/2023.\n",
    "Revision: MJF 07/17/2023\n",
    "\n",
    "Melanie Frost\n",
    "melanie.frost@nasa.gov"
   ]
  },
  {
   "cell_type": "markdown",
   "id": "a348d86b-11be-43e3-a904-61c85bb19b0b",
   "metadata": {},
   "source": [
    "### Deriving ensemble future canopy height and change predictions\n",
    "We assembled the individual future potential canopy height predictions available from each GCM for each SSP and time period into ensemble predictions of future canopy height. To do this, we computed gridded maps of the median value of all individual GCM predictions for each SSP and future time period.  This calculation operated pixel-wise, based on the set of individual canopy height predictions from the available SSP- and time-period-specific GCMs summarized in Supplementary Figure 4. Then, we calculated maps of the differences between these future ensemble predictions and the current predictions. This step served to normalize the future predictions of potential canopy height with the same model-based predictions of current canopy height. This normalization was included to mitigate biases inherent in the model-based predictions of height. This produced 16 ensemble-based difference maps representing the potential differences in the future mean canopy height of vegetation for the 4 time-periods across the gradient of forest in our study domain according to the 4 CMIP6 SSPs. "
   ]
  },
  {
   "cell_type": "code",
   "execution_count": 1,
   "id": "fb519182-172e-4fc2-87e6-5f91bd4d741b",
   "metadata": {
    "tags": []
   },
   "outputs": [
    {
     "name": "stderr",
     "output_type": "stream",
     "text": [
      "\n",
      "KeyboardInterrupt\n",
      "\n"
     ]
    }
   ],
   "source": [
    "import os\n",
    "os.environ['USE_PYGEOS'] = '0'\n",
    "import sys\n",
    "\n",
    "import pandas as pd\n",
    "import numpy as np\n",
    "import treelite\n",
    "import rioxarray as rxr\n",
    "import rasterio as rio\n",
    "import matplotlib\n",
    "import geopandas as gpd\n",
    "\n",
    "from osgeo import gdal,gdal_array,osr\n",
    "\n",
    "import matplotlib.pyplot as plt\n",
    "\n",
    "import panel as pn\n",
    "\n",
    "from tqdm import tqdm\n",
    "\n",
    "import holoviews as hv\n",
    "import geoviews as gv\n",
    "gv.extension('bokeh')\n",
    "#gv.extension('matplotlib')\n",
    "\n",
    "import xarray as xr\n",
    "\n",
    "import joblib\n",
    "\n",
    "#save the plots for comparison\n",
    "import cartopy.crs as ccrs\n",
    "from bokeh.resources import INLINE\n",
    "\n",
    "import warnings\n",
    "warnings.filterwarnings(\"ignore\")"
   ]
  },
  {
   "cell_type": "code",
   "execution_count": null,
   "id": "b6e20097-c905-402e-a344-ade0c1e1c5f1",
   "metadata": {},
   "outputs": [],
   "source": [
    "import glob\n",
    "gv.__version__"
   ]
  },
  {
   "cell_type": "code",
   "execution_count": null,
   "id": "indonesian-grave",
   "metadata": {
    "tags": []
   },
   "outputs": [],
   "source": [
    "## Define global variables\n",
    "\n",
    "#Circumpolar\n",
    "#minlon = -179.02\n",
    "#maxlon = 180\n",
    "#minlat = 49.99\n",
    "#maxlat = 74.95\n",
    "\n",
    "#Eurasia\n",
    "#minlon = 25\n",
    "#maxlon = 179.02\n",
    "#minlat = 52.01\n",
    "#maxlat = 75.00\n",
    "\n",
    "\n",
    "#04/17/2023\n",
    "minlon = -168.98\n",
    "maxlon = -50.02\n",
    "minlat = 45.02\n",
    "maxlat = 75\n",
    "\n",
    "bbox = [minlon, minlat, maxlon, maxlat]\n",
    "\n",
    "fn = '/explore/nobackup/projects/ilab/data/worldclim/1km/bioclim_cmip6/wc2.1_2.5m_bio/wc2.1_2.5m_bio_1.tif'\n",
    "tmp = rxr.open_rasterio(fn, mask_and_scale=True).rio.clip_box(minlon, minlat, maxlon, maxlat)\n",
    "lons = tmp.x.values\n",
    "lats = tmp.y.values\n",
    "shape = (len(lats), len(lons))\n",
    "print('Expected size:')\n",
    "print(shape)\n",
    "tmp=None\n",
    "\n",
    "print('Lons:')\n",
    "print(len(lons))\n",
    "with rio.open(fn) as src:\n",
    "    meta = src.meta\n",
    "#print(meta)\n",
    "src.close()\n",
    "# color map for prediction\n",
    "## 'black','#636363','#fc8d59','#fee08b','#ffffbf','#d9ef8b','#91cf60','#1a9850'\n",
    "clrs = ['#fee08b','#ffffbf','#d9ef8b','#91cf60','#1a9850']\n",
    "cmap_p = matplotlib.colors.LinearSegmentedColormap.from_list(name=\"color_p\", \n",
    "                                                             colors=clrs, N=16) \n",
    "\n",
    "# color map for trend\n",
    "brbg= matplotlib.cm.get_cmap('BrBG', 256)\n",
    "grey = matplotlib.cm.get_cmap('Greys', 20)\n",
    "gs = grey(np.linspace(0, 1, 20))\n",
    "newcolors = brbg(np.linspace(0, 1, 256))\n",
    "newcolors[85:170, :] = gs[5]\n",
    "cmap_t = matplotlib.colors.ListedColormap(newcolors)\n",
    "\n",
    "# set basemap\n",
    "baseMap = gv.tile_sources.CartoLight\n",
    "#baseMapRGB = gv.util.get_tile_rgb(baseMap,bbox=(minlon, minlat, maxlon, maxlat), zoom_level=1).opts(width=800, height=400, projection=ccrs.PlateCarree())"
   ]
  },
  {
   "cell_type": "code",
   "execution_count": null,
   "id": "sapphire-singing",
   "metadata": {},
   "outputs": [],
   "source": [
    "# function to aggregate predictors\n",
    "def build_predictors(bio_file, bnds, pf_fn=None, sg_fn=None, oc_fn=None):\n",
    "    #get permafrost\n",
    "    #Circumpolar\n",
    "    #pf_fn = \"/efs/zwwillia/BorealHeight_Data/Global_data/UiO_PEX_PERPROB_3.0_20171201_2000_2016_warp_clip_global_25min.tif\"\n",
    "    #Eurasia\n",
    "    #pf_fn = \"/efs/zwwillia/BorealHeight_Data/Eurasia_data/UiO_PEX_PERPROB_3.0_20171201_2000_2016_warp_clip_eurasia_25min_ext.tif\"\n",
    "    #NA\n",
    "    #pf_fn = \"/efs/STG_Tutorial_Data/BorealHeight_RF/prediction/UiO_PEX_PERPROB_3.0_20171201_2000_2016_warp_clip_25min.tif\"\n",
    "    try:\n",
    "        pf = rxr.open_rasterio(pf_fn, mask_and_scale=True).rio.clip_box(minlon, minlat, maxlon, maxlat).sel(band=1).values.ravel()\n",
    "        pf = pf.reshape(-1, 1)\n",
    "        print('Perma shape')\n",
    "        print(pf.shape)\n",
    "    except:\n",
    "        print('No Permafrost Added')\n",
    "    \n",
    "    try:\n",
    "        sg = rxr.open_rasterio(sg_fn, mask_and_scale=True).rio.clip_box(minlon, minlat, maxlon, maxlat).sel(band=1).values.ravel()\n",
    "        sg = sg.reshape(-1, 1)\n",
    "        print('Depth to Bedrock shape')\n",
    "        print(sg.shape)\n",
    "    except:\n",
    "        print('No Depth to Bedrock Added')\n",
    "    \n",
    "    try:\n",
    "        oc = rxr.open_rasterio(oc_fn, mask_and_scale=True).rio.clip_box(minlon, minlat, maxlon, maxlat).sel(band=1).values.ravel()\n",
    "        oc = oc.reshape(-1, 1)\n",
    "        print('Organic Carbon Density shape')\n",
    "        print(oc.shape)\n",
    "    except:\n",
    "        print('No Carbon Density Added')\n",
    "    \n",
    "    #get bioclim\n",
    "    bios = extract_bioclim(bio_file, bnds)\n",
    "    print('Bios Shape')\n",
    "    print(bios.shape)\n",
    "    x = np.concatenate([pf, sg, oc, bios], axis=1)\n",
    "    mask = np.isnan(x).any(axis=1)\n",
    "    \n",
    "    return x, mask\n",
    "\n",
    "# function to clip bioclim to aoi\n",
    "def extract_bioclim(files, bnds):\n",
    "    # function to read, clip & reshape bioclim 2.5m data\n",
    "    if len(files)==19:\n",
    "        sl = [rxr.open_rasterio(file, mask_and_scale=True).rio.clip_box(bnds[0], bnds[1], bnds[2], bnds[3]).values.flatten() for file in files]\n",
    "        sub = np.concatenate([sl], axis=1)\n",
    "        sub = np.moveaxis(sub, 0, -1)\n",
    "    else:\n",
    "        ds = rxr.open_rasterio(files[0], mask_and_scale=True).rio.clip_box(bnds[0], bnds[1], bnds[2], bnds[3])\n",
    "        sub = np.moveaxis(ds.values, 0, -1).reshape((-1, 19))\n",
    "    return sub\n",
    "    \n",
    "# funtion to plot result \n",
    "def map_bioclim(arr, mode=\"pred\"):\n",
    "    if mode == \"pred\":\n",
    "        cmap = cmap_p\n",
    "        clim = (0.5, 25.5)\n",
    "        logz = True\n",
    "    if mode == \"diff\":\n",
    "        cmap = \"BrBG\"\n",
    "        clim = (-5.0, 5.0)\n",
    "        logz = False\n",
    "    if mode == \"trend\":\n",
    "        cmap = cmap_t\n",
    "        clim = (-5.0, 5.0)\n",
    "        logz = False\n",
    "        \n",
    "    img_opts = dict(\n",
    "        width=600, \n",
    "        height=300, \n",
    "        logz=logz,\n",
    "        cmap=cmap,\n",
    "        colorbar=True,\n",
    "        clim = clim,\n",
    "        tools=[\"hover\"], active_tools=['wheel_zoom']\n",
    "        )\n",
    "    gv_dataset = gv_dataset = gv.Dataset((lons, lats, arr), ['longitude', 'latitude'], mode)\n",
    "    return gv.Image(gv_dataset).opts(**img_opts)\n"
   ]
  },
  {
   "cell_type": "code",
   "execution_count": null,
   "id": "3937b2c7-4811-4c00-ad35-c81cc46eb803",
   "metadata": {},
   "outputs": [],
   "source": [
    "import holoviews.operation.datashader as hd\n",
    "# function to plot rasterized atl08 data  \n",
    "def map_atl_raster(fn):\n",
    "    ds = rxr.open_rasterio(fn, mask_and_scale=True)\n",
    "    dt = ds.data.squeeze()\n",
    "    #dt[mask2d] = np.nan\n",
    "\n",
    "    gv_dataset = gv.Dataset((ds.x.values, ds.y.values, dt), ['lon', 'lat'], 'h_can')\n",
    "    cls = ['black','#636363','#fc8d59','#fee08b','#ffffbf','#d9ef8b','#91cf60','#1a9850']\n",
    "    color = matplotlib.colors.LinearSegmentedColormap.from_list(name='myc', colors=cls)\n",
    "\n",
    "    base_map =  hv.element.tiles.EsriImagery()\n",
    "    img = gv.Image(gv_dataset).opts(\n",
    "            height=600, width=1100, colorbar=True, active_tools=['wheel_zoom'],\n",
    "            tools=['hover'], cmap=color, clim=(0.0, 25.0))\n",
    "    return hd.regrid(img)"
   ]
  },
  {
   "cell_type": "code",
   "execution_count": null,
   "id": "a0943410-220e-4607-bff4-9e66121bec97",
   "metadata": {},
   "outputs": [],
   "source": [
    "boreal_ext = gpd.read_file('/explore/nobackup/people/mfrost2/projects/boreal_hcan/GIS/NA_boreal_ext_buff.shp')\n",
    "#boreal_ext.plot()\n",
    "fn = \"/explore/nobackup/projects/ilab/projects/forest_height/boreal/layers/UiO_PEX_PERPROB_3.0_20171201_2000_2016_warp_25min.tif\"\n",
    "xds = rxr.open_rasterio(fn, mask_and_scale=True)\n",
    "clipped = xds.rio.clip(boreal_ext.geometry.values, boreal_ext.crs, drop=False, invert=False)\n",
    "#clipped.plot()"
   ]
  },
  {
   "cell_type": "markdown",
   "id": "sorted-berry",
   "metadata": {},
   "source": [
    "## Load pretrained model"
   ]
  },
  {
   "cell_type": "code",
   "execution_count": null,
   "id": "ca59057d-d90d-4878-8a82-e19e14b724ee",
   "metadata": {},
   "outputs": [],
   "source": [
    "rf_model = joblib.load('/explore/nobackup/people/mfrost2/projects/boreal_hcan/models/rf_NA_ATL_max_Perm_Soil.joblib')"
   ]
  },
  {
   "cell_type": "markdown",
   "id": "precise-latitude",
   "metadata": {
    "tags": []
   },
   "source": [
    "## Apply model on bioclim current"
   ]
  },
  {
   "cell_type": "code",
   "execution_count": null,
   "id": "lucky-principle",
   "metadata": {},
   "outputs": [],
   "source": [
    "%%time\n",
    "pf_fn = \"/explore/nobackup/projects/ilab/projects/forest_height/boreal/layers/UiO_PEX_PERPROB_3.0_20171201_2000_2016_warp_25min.tif\"\n",
    "sg_fn = \"/explore/nobackup/projects/ilab/projects/forest_height/boreal/layers/BDRICM_M_250m_ll_clip_25min.tif\"\n",
    "oc_fn = \"/explore/nobackup/projects/ilab/projects/forest_height/boreal/layers/OCDENS_M_sl1_250m_ll_clip_25min.tif\"\n",
    "\n",
    "flist = [f\"/explore/nobackup/projects/ilab/data/worldclim/1km/bioclim_cmip6/wc2.1_2.5m_bio/wc2.1_2.5m_bio_{id}.tif\" for id in range(1,20)]\n",
    "xc, maskc = build_predictors(flist, bbox, pf_fn=pf_fn, sg_fn=sg_fn, oc_fn=oc_fn)"
   ]
  },
  {
   "cell_type": "code",
   "execution_count": null,
   "id": "df2565a7-1f82-4224-8060-c351c0642802",
   "metadata": {},
   "outputs": [],
   "source": [
    "res = rf_model.predict(xc)"
   ]
  },
  {
   "cell_type": "code",
   "execution_count": null,
   "id": "corrected-corruption",
   "metadata": {},
   "outputs": [],
   "source": [
    "# Fill back nodata & reshape back to 2D\n",
    "res[maskc]=np.nan\n",
    "predc = res.reshape(shape)"
   ]
  },
  {
   "cell_type": "code",
   "execution_count": null,
   "id": "grateful-there",
   "metadata": {},
   "outputs": [],
   "source": [
    "# Show prediction\n",
    "img0 = map_bioclim(predc, 'pred')\n",
    "pn.Column(img0*baseMap)"
   ]
  },
  {
   "cell_type": "code",
   "execution_count": null,
   "id": "f7ced86d-d3fe-47c0-9c38-765999ea2cd5",
   "metadata": {},
   "outputs": [],
   "source": [
    "# Save output arrays as GeoTiffs\n",
    "# Blueprint is target\n",
    "def save_map(arr,meta,outPut):\n",
    "    #using GDAL\n",
    "    nrows,ncols = np.shape(arr)\n",
    "    x_res = (maxlon-minlon)/float(ncols)\n",
    "    y_res = (maxlat-minlat)/float(nrows)\n",
    "    geotransform = (minlon,x_res,0,maxlat,0,-y_res)\n",
    "    output_raster = gdal.GetDriverByName('GTiff').Create(outPut,ncols,nrows,1,gdal.GDT_Float32)\n",
    "    output_raster.SetGeoTransform(geotransform)\n",
    "    srs = osr.SpatialReference()\n",
    "    srs.ImportFromEPSG(4326)\n",
    "    output_raster.SetProjection(srs.ExportToWkt())\n",
    "    #output_raster.rxr.clip(boreal_ext.geometry.apply(mapping),boreal_ext.crs)\n",
    "    output_raster.GetRasterBand(1).WriteArray(arr)\n",
    "    output_raster.FlushCache()\n",
    "    print('Raster saved!')"
   ]
  },
  {
   "cell_type": "code",
   "execution_count": null,
   "id": "8f5387e1-c91a-402f-a3ca-7dca9aceecaf",
   "metadata": {},
   "outputs": [],
   "source": [
    "# Save current map for future analysis\n",
    "# save_map(predc,meta,'/explore/nobackup/people/mfrost2/projects/boreal_hcan/output/North_America_Current_filtered_noPerm_20230706.tif')\n",
    "# current_pred = gpd.read_file('/explore/nobackup/people/mfrost2/projects/boreal_hcan/output/North_America_Current_filtered_noPerm_20230706.tif')"
   ]
  },
  {
   "cell_type": "markdown",
   "id": "bigger-cookie",
   "metadata": {},
   "source": [
    "## Apply model on bioclim future (CMIP6)\n",
    "ref: https://www.worldclim.org/data/cmip6/cmip6_clim2.5m.html"
   ]
  },
  {
   "cell_type": "code",
   "execution_count": null,
   "id": "boxed-contest",
   "metadata": {},
   "outputs": [],
   "source": [
    "# Define variables\n",
    "cmip_path = \"/explore/nobackup/projects/ilab/data/worldclim/1km/bioclim_cmip6\"\n",
    "\n",
    "md_list_2021 = ['BCC-CSM2-MR','CanESM5','CNRM-CM6-1','MIROC-ES2L','MIROC6', 'CNRM-ESM2-1']\n",
    "md_list_2041 = ['CanESM5','CNRM-CM6-1','IPSL-CM6A-LR','MIROC-ES2L','MIROC6','MRI-ESM2-0', 'CNRM-ESM2-1']\n",
    "md_list_2061 = ['BCC-CSM2-MR','CanESM5','CNRM-CM6-1','IPSL-CM6A-LR','MIROC-ES2L','MIROC6','MRI-ESM2-0', 'CNRM-ESM2-1']\n",
    "md_list_2081 = ['BCC-CSM2-MR','CanESM5','CNRM-CM6-1','IPSL-CM6A-LR','MIROC-ES2L','MIROC6','MRI-ESM2-0', 'CNRM-ESM2-1']\n",
    "\n",
    "md_list = md_list_2061\n",
    "\n",
    "sn = ['ssp126','ssp245','ssp370','ssp585']\n",
    "#yr = '2021-2040'\n",
    "#yr = '2041-2060'\n",
    "yr = '2061-2080'\n",
    "#yr = '2081-2100'"
   ]
  },
  {
   "cell_type": "code",
   "execution_count": null,
   "id": "fdeefcdf-c6e1-4352-b1a1-1c18653372ab",
   "metadata": {
    "tags": []
   },
   "outputs": [],
   "source": [
    "# Apply model on each CMIP-6 model and year commbination\n",
    "preds = []\n",
    "diffs = []\n",
    "\n",
    "#label for organizing outputs\n",
    "reg = 'NorthAmerica'\n",
    "outDir = r'/explore/nobackup/people/mfrost2/projects/boreal_hcan/output/'\n",
    "pf_fn = \"/explore/nobackup/projects/ilab/projects/forest_height/boreal/layers/UiO_PEX_PERPROB_3.0_20171201_2000_2016_warp_25min.tif\"\n",
    "with tqdm(total=len(sn)) as pbar:\n",
    "    for s in sn:\n",
    "        for md in md_list:\n",
    "            fl = os.path.join(cmip_path, f\"wc2.1_2.5m_bioc_{md}_{s}_{yr}.tif\")\n",
    "            pbar.write(f'processing: {os.path.basename(fl)}')\n",
    "            pbar.update(1)\n",
    "            x, msk= build_predictors([fl], bbox, pf_fn=pf_fn, sg_fn=sg_fn, oc_fn=oc_fn)        \n",
    "            #if permafrost/soils removed\n",
    "            #x = x[:,2:]\n",
    "            #res = treelite.gtil.predict(tl_model, x, pred_margin=True)\n",
    "            res = rf_model.predict(x, predict_model='GPU')\n",
    "            res[msk]=np.nan\n",
    "            pred = res.reshape(shape)\n",
    "            #save to file\n",
    "        \n",
    "            preds.append(pred)\n",
    "            diff = pred-predc\n",
    "            diffs.append(diff)\n",
    "            outfile_pred = os.path.join(outDir, f\"{reg}_{md}_{s}_{yr}.tif\")\n",
    "            outfile_diff = os.path.join(outDir, f\"{reg}_{md}_{s}_{yr}_DIFF.tif\")\n",
    "            #save_map(pred,meta,outfile_pred)\n",
    "            #save_map(diff,meta,outfile_diff)"
   ]
  },
  {
   "cell_type": "code",
   "execution_count": null,
   "id": "cc3502a7-ef08-494e-b1d1-b41a6342d06a",
   "metadata": {},
   "outputs": [],
   "source": [
    "res"
   ]
  },
  {
   "cell_type": "code",
   "execution_count": null,
   "id": "legendary-stream",
   "metadata": {
    "tags": []
   },
   "outputs": [],
   "source": [
    "# Put maps in order\n",
    "rows = []\n",
    "for i in range(0, len(sn)):\n",
    "    pimg = map_bioclim(preds[i], 'pred')\n",
    "    title = f\"Predicted Canopy Height {yr} CMIP6 {sn[i]} (m)\"\n",
    "    pimg.opts(title=title)\n",
    "    dimg = map_bioclim(diffs[i], 'diff')\n",
    "    title = f\"Predicted Canopy Height CMIP6 {sn[i]} vs. Current (m)\"\n",
    "    dimg.opts(title=title)\n",
    "    rows.append(pimg*baseMap+dimg*baseMap)"
   ]
  },
  {
   "cell_type": "code",
   "execution_count": null,
   "id": "269303aa-e3a2-4288-bd92-9b331ad502b9",
   "metadata": {},
   "outputs": [],
   "source": [
    "#test = gpd.clip(preds[0], boreal_ext)"
   ]
  },
  {
   "cell_type": "code",
   "execution_count": null,
   "id": "0e5c9706-b72a-47c4-a129-6a45ce5f6a66",
   "metadata": {
    "tags": []
   },
   "outputs": [],
   "source": [
    "rows"
   ]
  },
  {
   "cell_type": "code",
   "execution_count": null,
   "id": "global-variance",
   "metadata": {},
   "outputs": [],
   "source": [
    "# Show maps\n",
    "pn.Column(rows[0], \n",
    "          rows[1],\n",
    "          rows[2],\n",
    "          rows[3])"
   ]
  },
  {
   "cell_type": "markdown",
   "id": "6e79c0ab-c6e6-4479-9d18-2048293430b9",
   "metadata": {},
   "source": [
    "# Scatter plot among scenarios"
   ]
  },
  {
   "cell_type": "code",
   "execution_count": null,
   "id": "f815523b-5256-4633-93df-fe37b813275a",
   "metadata": {},
   "outputs": [],
   "source": [
    "# Define a pair of predictions, e.g. ('ssp126', 'ssp245') or ('current', 'ssp370')\n",
    "pairs = ('current', 'ssp585')\n"
   ]
  },
  {
   "cell_type": "code",
   "execution_count": null,
   "id": "50c92a8c-dd2e-4191-8ac4-d23f1b6434f2",
   "metadata": {},
   "outputs": [],
   "source": [
    "pred_dict = {'current' : predc,\n",
    "            'ssp126' : preds[0],\n",
    "            'ssp245': preds[1],\n",
    "            'ssp370': preds[1],\n",
    "            'ssp585': preds[2]}"
   ]
  },
  {
   "cell_type": "code",
   "execution_count": null,
   "id": "18f5103a-e6bd-4cb4-8471-8e77b7a0f694",
   "metadata": {
    "tags": []
   },
   "outputs": [],
   "source": [
    "p1 = pred_dict[pairs[0]].ravel()\n",
    "p1 = p1[~np.isnan(p1)]\n",
    "p2 = pred_dict[pairs[1]].ravel()\n",
    "p2 = p2[~np.isnan(p2)]\n",
    "data = np.column_stack((p1, p2))\n",
    "sample_size = 2000\n",
    "s = np.random.choice(data.shape[0], sample_size, replace=False)\n",
    "sample = data[s, :]\n",
    "pts = hv.Points(sample).opts(color='k', marker='+', size=10)\n",
    "pn.Column(pts.opts(width=800, height=400, xlabel=f\"{pairs[0].upper()} Predicted h-can\", ylabel=f\"{pairs[1].upper()} Predicted h-can\"))"
   ]
  },
  {
   "cell_type": "markdown",
   "id": "d8caa678-68d5-4851-820d-5a489da7747f",
   "metadata": {},
   "source": [
    "### Medians"
   ]
  },
  {
   "cell_type": "code",
   "execution_count": null,
   "id": "9d8253d5-12ff-46ef-af03-561967a9e931",
   "metadata": {},
   "outputs": [],
   "source": [
    "# For 2021\n",
    "\n",
    "md_list = md_list_2021\n",
    "yr = '2021-2040'\n",
    "\n",
    "j = 0\n",
    "for i in sn:\n",
    "    median_map = np.median([preds[j + 0],preds[j + 1],preds[j + 2],preds[j + 3],preds[j + 4],preds[j + 5]],axis=0)\n",
    "    print(median_map.shape)\n",
    "    median_diff = median_map-predc\n",
    "    \n",
    "    outfile_pred = os.path.join(outDir, f\"Median_{i}_{yr}.tif\")\n",
    "    outfile_diff = os.path.join(outDir, f\"Median_{i}_{yr}_DIFF.tif\")\n",
    "    print(outfile_pred)\n",
    "    save_map(median_map,meta,outfile_pred)\n",
    "    save_map(median_diff,meta,outfile_diff)\n",
    "    \n",
    "    j = j + 6"
   ]
  },
  {
   "cell_type": "code",
   "execution_count": null,
   "id": "8d787d70-af75-4c1f-81b0-e144eefacb9e",
   "metadata": {},
   "outputs": [],
   "source": [
    "# For 2041\n",
    "\n",
    "md_list = md_list_2041\n",
    "yr = '2041-2060'\n",
    "\n",
    "j = 0\n",
    "for i in sn:\n",
    "    \n",
    "    median_map = np.median([preds[j + 0],preds[j + 1],preds[j + 2],preds[j + 3],preds[j + 4],preds[j + 5],preds[j + 6]], axis=0)\n",
    "    \n",
    "    print(median_map.shape)\n",
    "    median_diff = median_map-predc\n",
    "    \n",
    "    outfile_pred = os.path.join(outDir, f\"Median_{i}_{yr}.tif\")\n",
    "    outfile_diff = os.path.join(outDir, f\"Median_{i}_{yr}_DIFF.tif\")\n",
    "    print(outfile_pred)\n",
    "    save_map(median_map,meta,outfile_pred)\n",
    "    save_map(median_diff,meta,outfile_diff)\n",
    "    \n",
    "    j = j + 7"
   ]
  },
  {
   "cell_type": "code",
   "execution_count": null,
   "id": "6af00a67-ea8e-4ec5-8807-fc5a0170fff9",
   "metadata": {},
   "outputs": [],
   "source": [
    "# For 2061\n",
    "j = 0\n",
    "\n",
    "md_list = md_list_2061\n",
    "yr = '2061-2080'\n",
    "\n",
    "for i in sn:\n",
    "    \n",
    "    median_map = np.median([preds[j + 0],preds[j + 1],preds[j + 2],preds[j + 3],preds[j + 4],preds[j + 5],preds[j + 6],preds[j + 7]],axis=0)\n",
    "    \n",
    "    print(median_map.shape)\n",
    "    median_diff = median_map-predc\n",
    "    \n",
    "    outfile_pred = os.path.join(outDir, f\"Median_{i}_{yr}.tif\")\n",
    "    outfile_diff = os.path.join(outDir, f\"Median_{i}_{yr}_DIFF.tif\")\n",
    "    print(outfile_pred)\n",
    "    save_map(median_map,meta,outfile_pred)\n",
    "    save_map(median_diff,meta,outfile_diff)\n",
    "    \n",
    "    j = j + 8"
   ]
  },
  {
   "cell_type": "code",
   "execution_count": null,
   "id": "7136d2e6-e71b-46a8-a26e-7b8243c1e226",
   "metadata": {},
   "outputs": [],
   "source": [
    "# For 2081\n",
    "j = 0\n",
    "\n",
    "md_list = md_list_2081\n",
    "yr = '2081-2100'\n",
    "\n",
    "for i in sn:\n",
    "    \n",
    "    median_map = np.median([preds[j + 0],preds[j + 1],preds[j + 2],preds[j + 3],preds[j + 4],preds[j + 5],preds[j + 6],preds[j + 7]],axis=0)\n",
    "    \n",
    "    print(median_map.shape)\n",
    "    median_diff = median_map-predc\n",
    "    \n",
    "    outfile_pred = os.path.join(outDir, f\"Median_{i}_{yr}.tif\")\n",
    "    outfile_diff = os.path.join(outDir, f\"Median_{i}_{yr}_DIFF.tif\")\n",
    "    print(outfile_pred)\n",
    "    save_map(median_map,meta,outfile_pred)\n",
    "    save_map(median_diff,meta,outfile_diff)\n",
    "    \n",
    "    j = j + 8"
   ]
  },
  {
   "cell_type": "code",
   "execution_count": null,
   "id": "4327b191-afa9-4e3f-bba9-7de975ac7961",
   "metadata": {},
   "outputs": [],
   "source": [
    "pimg = map_bioclim(median_map, 'pred')\n",
    "title = f\"Median Predicted HCan {yr} {sn[int(j/7-1)]}\"\n",
    "pimg.opts(title=title)"
   ]
  },
  {
   "cell_type": "code",
   "execution_count": null,
   "id": "4b7f9d52-f42c-4907-baba-9962499d159a",
   "metadata": {},
   "outputs": [],
   "source": [
    "plt.close('all')"
   ]
  },
  {
   "cell_type": "markdown",
   "id": "c65d1bb8-2285-48f9-a924-727ec6c5cec8",
   "metadata": {},
   "source": [
    "## Clip Rasters to Study Domain"
   ]
  },
  {
   "cell_type": "code",
   "execution_count": null,
   "id": "3b6cd8ad-d47b-485e-a75f-9ae9bf5c77e9",
   "metadata": {},
   "outputs": [],
   "source": [
    "# Clip Rasters to NA Boreal Extent\n",
    "\n",
    "boreal_ext = gpd.read_file('/explore/nobackup/people/mfrost2/projects/boreal_hcan/GIS/NA_boreal_ext_buff.shp')\n",
    "dp = r'/explore/nobackup/people/mfrost2/projects/boreal_hcan/output/'\n",
    "\n",
    "med_fn = 'Median*0.tif'\n",
    "diff_fn = 'Median*DIFF.tif'\n",
    "\n",
    "med_path = os.path.join(dp, med_fn)\n",
    "diff_path = os.path.join(dp, diff_fn)\n",
    "\n",
    "med_list = glob.glob(med_path)\n",
    "diff_list = glob.glob(diff_path)\n",
    "\n",
    "diff_list"
   ]
  },
  {
   "cell_type": "code",
   "execution_count": null,
   "id": "30e46821-c626-4323-a97e-779c612d7ae7",
   "metadata": {},
   "outputs": [],
   "source": [
    "# Make clipped rasters of median values\n",
    "\n",
    "#for raster in diff_list:\n",
    "for raster in med_list:\n",
    "    xds = rxr.open_rasterio(raster, mask_and_scale=True)\n",
    "    clipped = xds.rio.clip(boreal_ext.geometry.values, boreal_ext.crs, drop=False, invert=False)\n",
    "    \n",
    "    new_fp = str(raster)[:-4]+'_clipped.tif'\n",
    "    print(new_fp)\n",
    "    #clipped.rio.to_raster(new_fp)"
   ]
  },
  {
   "cell_type": "code",
   "execution_count": null,
   "id": "97c0c765-d66e-42ac-9ee7-d538ea2bb1ae",
   "metadata": {},
   "outputs": [],
   "source": [
    "# See if clip worked\n",
    "clipped.plot()"
   ]
  },
  {
   "cell_type": "code",
   "execution_count": null,
   "id": "f7241731-bcd6-49e3-abbf-c4e778c061a2",
   "metadata": {},
   "outputs": [],
   "source": [
    "#Check spatial resolution\n",
    "# Hcan output file\n",
    "import rasterio as rio\n",
    "\n",
    "raster = gdal.Open('/explore/nobackup/people/mfrost2/projects/boreal_hcan/output/Median_ssp126_2061-2080.tif' )\n",
    "\n",
    "gdal.Info(raster)\n",
    "raster.GetGeoTransform()"
   ]
  },
  {
   "cell_type": "code",
   "execution_count": null,
   "id": "861bb23f-5a60-4872-b485-a40088d19d2f",
   "metadata": {},
   "outputs": [],
   "source": [
    "#Bioclim output file\n",
    "raster = gdal.Open(flist[0])\n",
    "\n",
    "gdal.Info(raster)\n",
    "raster.GetGeoTransform()"
   ]
  },
  {
   "cell_type": "code",
   "execution_count": null,
   "id": "a22cc2b2-1acb-47c6-8a6b-08f1fc648263",
   "metadata": {},
   "outputs": [],
   "source": [
    "#ATL Input file\n",
    "atl_file = '/explore/nobackup/projects/ilab/projects/forest_height/boreal/atl08/atl08_boreal_na_20m_intersect_filt_2018_2022_max_raster.tif'\n",
    "raster = gdal.Open(atl_file)\n",
    "\n",
    "gdal.Info(raster)\n",
    "raster.GetGeoTransform()"
   ]
  },
  {
   "cell_type": "code",
   "execution_count": null,
   "id": "ecec8e02-d229-4350-8a91-08bf74d9c74b",
   "metadata": {},
   "outputs": [],
   "source": [
    "#Bioclim input file\n",
    "raster = gdal.Open(flist[0])\n",
    "\n",
    "gdal.Info(raster)\n",
    "raster.GetGeoTransform()"
   ]
  },
  {
   "cell_type": "code",
   "execution_count": null,
   "id": "fc386fd1-e41f-4b59-80bc-fe8b6dc33d26",
   "metadata": {},
   "outputs": [],
   "source": [
    "bio_path = \"/explore/nobackup/projects/ilab/data/worldclim/1km/bioclim/wc2.0_30s_bio\"\n",
    "bio_idx = [str(x).zfill(2) for x in range(1,20)]\n",
    "bio_files = [os.path.join(bio_path, f\"wc2.0_bio_30s_{i}.tif\") for i in bio_idx]\n",
    "bio_files"
   ]
  },
  {
   "cell_type": "code",
   "execution_count": null,
   "id": "1695c733-a0c0-4cb8-9fdc-604cdb13e127",
   "metadata": {},
   "outputs": [],
   "source": []
  }
 ],
 "metadata": {
  "kernelspec": {
   "display_name": "Python 3 (ipykernel)",
   "language": "python",
   "name": "python3"
  },
  "language_info": {
   "codemirror_mode": {
    "name": "ipython",
    "version": 3
   },
   "file_extension": ".py",
   "mimetype": "text/x-python",
   "name": "python",
   "nbconvert_exporter": "python",
   "pygments_lexer": "ipython3",
   "version": "3.12.2"
  }
 },
 "nbformat": 4,
 "nbformat_minor": 5
}
